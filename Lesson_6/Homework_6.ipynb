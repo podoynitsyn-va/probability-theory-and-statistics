{
 "cells": [
  {
   "cell_type": "markdown",
   "metadata": {},
   "source": [
    "### Домашняя работа: Урок 6. Взаимосвязь величин. Параметрические и непараметрические показатели корреляции. Корреляционный анализ"
   ]
  },
  {
   "cell_type": "code",
   "execution_count": 1,
   "metadata": {},
   "outputs": [],
   "source": [
    "import numpy as np\n",
    "import pandas as pd"
   ]
  },
  {
   "cell_type": "markdown",
   "metadata": {},
   "source": [
    "#### 1. Даны значения величины заработной платы заемщиков банка (zp) и значения их поведенческого кредитного скоринга (ks):\n",
    "#### zp = [35, 45, 190, 200, 40, 70, 54, 150, 120, 110],\n",
    "#### ks = [401, 574, 874, 919, 459, 739, 653, 902, 746, 832].\n",
    "#### Найдите ковариацию этих двух величин с помощью элементарных действий, а затем с помощью функции cov из numpy. Полученные значения должны быть равны.\n"
   ]
  },
  {
   "cell_type": "code",
   "execution_count": 2,
   "metadata": {},
   "outputs": [
    {
     "name": "stdout",
     "output_type": "stream",
     "text": [
      "Ковариация вычисленная: 10175.37777777778\n"
     ]
    }
   ],
   "source": [
    "salary = np.array([35, 45, 190, 200, 40, 70, 54, 150, 120, 110])\n",
    "scoring = np.array([401, 574, 874, 919, 459, 739, 653, 902, 746, 832])\n",
    "M_salary = salary.mean() # мат.ожидание массива зарплаты\n",
    "M_scoring = scoring.mean() # мат.ожидание скоринга\n",
    "cov = ((salary - M_salary) * (scoring - M_scoring)).sum() / (salary.shape[0] - 1) # несмещенная ковариация\n",
    "print(f'Ковариация вычисленная: {cov}')"
   ]
  },
  {
   "cell_type": "code",
   "execution_count": 3,
   "metadata": {},
   "outputs": [
    {
     "name": "stdout",
     "output_type": "stream",
     "text": [
      "Ковариация cov: 10175.377777777778\n"
     ]
    }
   ],
   "source": [
    "# матрица ковариаций\n",
    "cov = np.cov(salary, scoring) \n",
    "print(f'Ковариация cov: {cov[0,1]}')"
   ]
  },
  {
   "cell_type": "markdown",
   "metadata": {},
   "source": [
    "#### Найдите коэффициент корреляции Пирсона с помощью ковариации и среднеквадратичных отклонений двух признаков, а затем с использованием функций из библиотек numpy и pandas."
   ]
  },
  {
   "cell_type": "code",
   "execution_count": 4,
   "metadata": {},
   "outputs": [
    {
     "name": "stdout",
     "output_type": "stream",
     "text": [
      "Коэффициент корреляции вычисленный: 0.8874900920739162\n"
     ]
    }
   ],
   "source": [
    "r_cov = cov / (salary.std(ddof=1) * scoring.std(ddof=1))\n",
    "print(f'Коэффициент корреляции вычисленный: {r_cov[0,1]}')"
   ]
  },
  {
   "cell_type": "code",
   "execution_count": 5,
   "metadata": {},
   "outputs": [
    {
     "name": "stdout",
     "output_type": "stream",
     "text": [
      "Коэффициент корреляции в numpy: 0.8874900920739163\n"
     ]
    }
   ],
   "source": [
    "r_numpy = np.corrcoef(salary, scoring)\n",
    "print(f'Коэффициент корреляции в numpy: {r_numpy[0,1]}')"
   ]
  },
  {
   "cell_type": "code",
   "execution_count": 6,
   "metadata": {},
   "outputs": [
    {
     "name": "stdout",
     "output_type": "stream",
     "text": [
      "Коэффициент корреляции в pandas: 0.8874900920739162\n"
     ]
    }
   ],
   "source": [
    "data = np.vstack((salary, scoring))\n",
    "data = pd.DataFrame(data.T, columns=['salary', 'scoring'])\n",
    "r_pandas = data.corr()\n",
    "print(f'Коэффициент корреляции в pandas: {r_pandas.salary.scoring}')"
   ]
  },
  {
   "cell_type": "markdown",
   "metadata": {},
   "source": [
    "#### 2. Измерены значения IQ выборки студентов, обучающихся в местных технических вузах:\n",
    "#### 131, 125, 115, 122, 131, 115, 107, 99, 125, 111.\n",
    "#### Известно, что в генеральной совокупности IQ распределен нормально. Найдите доверительный интервал для математического ожидания с надежностью 0.95."
   ]
  },
  {
   "cell_type": "code",
   "execution_count": 7,
   "metadata": {},
   "outputs": [
    {
     "name": "stdout",
     "output_type": "stream",
     "text": [
      "Доверительный интервал: (110.55660776308164, 125.64339223691834)\n"
     ]
    }
   ],
   "source": [
    "IQ = np.array([131, 125, 115, 122, 131, 115, 107, 99, 125, 111])\n",
    "IQ_mean = IQ.mean()\n",
    "IQ_n = len(IQ)\n",
    "IQ_std = IQ.std(ddof=1)\n",
    "#коэффициент Стьюдента: для значения 0.95 при количестве экспериментов = 9\n",
    "t = 2.262 \n",
    "\n",
    "interval = (IQ_mean - t * IQ_std / np.sqrt(IQ_n), IQ_mean + t * IQ_std / np.sqrt(IQ_n)) \n",
    "\n",
    "print(f'Доверительный интервал: {interval}')"
   ]
  },
  {
   "cell_type": "markdown",
   "metadata": {},
   "source": [
    "#### 2. Известно, что рост футболистов в сборной распределен нормально с известной дисперсией 25. На выборке объёма 27 выборочное среднее составило 174.2. Найдите доверительный интервал для математического ожидания с надежностью 0.95."
   ]
  },
  {
   "cell_type": "code",
   "execution_count": 8,
   "metadata": {},
   "outputs": [
    {
     "name": "stdout",
     "output_type": "stream",
     "text": [
      "Доверительный интервал: (172.22161307757688, 176.1783869224231)\n"
     ]
    }
   ],
   "source": [
    "mean = 174.2\n",
    "n = 27\n",
    "std = 5\n",
    "#коэффициент Стьюдента: для значения 0.95 при количестве экспериментов = n-1\n",
    "t = 2.056\n",
    "interval = (mean - t * std / np.sqrt(n), mean + t * std / np.sqrt(n))\n",
    "print(f'Доверительный интервал: {interval}')"
   ]
  },
  {
   "cell_type": "code",
   "execution_count": null,
   "metadata": {},
   "outputs": [],
   "source": []
  }
 ],
 "metadata": {
  "kernelspec": {
   "display_name": "Python 3",
   "language": "python",
   "name": "python3"
  },
  "language_info": {
   "codemirror_mode": {
    "name": "ipython",
    "version": 3
   },
   "file_extension": ".py",
   "mimetype": "text/x-python",
   "name": "python",
   "nbconvert_exporter": "python",
   "pygments_lexer": "ipython3",
   "version": "3.7.3"
  }
 },
 "nbformat": 4,
 "nbformat_minor": 2
}
