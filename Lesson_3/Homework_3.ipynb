{
 "cells": [
  {
   "cell_type": "markdown",
   "metadata": {},
   "source": [
    "### Домашняя работа: Урок 3. Описательная статистика. Качественные и количественные характеристики популяции. Графическое представление данных."
   ]
  },
  {
   "cell_type": "code",
   "execution_count": 1,
   "metadata": {},
   "outputs": [],
   "source": [
    "import numpy as np\n",
    "import pandas as pd\n",
    "from math import factorial\n",
    "\n",
    "def combinations(n, k):\n",
    "    return int(factorial(n) / (factorial(k) * factorial(n - k)))"
   ]
  },
  {
   "cell_type": "markdown",
   "metadata": {},
   "source": [
    "#### 1. Даны значения зарплат из выборки выпускников: 100, 80, 75, 77, 89, 33, 45, 25, 65, 17, 30, 24, 57, 55, 70, 75, 65, 84, 90, 150. Посчитать (желательно без использования статистических методов наподобие std, var, mean) среднее арифметическое, среднее квадратичное отклонение, смещенную и несмещенную оценки дисперсий для данной выборки."
   ]
  },
  {
   "cell_type": "code",
   "execution_count": 2,
   "metadata": {},
   "outputs": [],
   "source": [
    "df = pd.DataFrame()\n",
    "df['salary'] = [100, 80, 75, 77, 89, 33, 45, 25, 65, 17, 30, 24, 57, 55, 70, 75, 65, 84, 90, 150]\n",
    "s = df['salary']"
   ]
  },
  {
   "cell_type": "markdown",
   "metadata": {},
   "source": [
    "Среднее арифметическое:"
   ]
  },
  {
   "cell_type": "code",
   "execution_count": 3,
   "metadata": {},
   "outputs": [
    {
     "name": "stdout",
     "output_type": "stream",
     "text": [
      "Ответ: 65.3\n"
     ]
    }
   ],
   "source": [
    "salary_av = s.sum()/s.count()\n",
    "print(f'Ответ: {salary_av}')"
   ]
  },
  {
   "cell_type": "markdown",
   "metadata": {},
   "source": [
    "Среднее квадратичное отклонение:"
   ]
  },
  {
   "cell_type": "code",
   "execution_count": 4,
   "metadata": {},
   "outputs": [
    {
     "name": "stdout",
     "output_type": "stream",
     "text": [
      "Ответ: 30.823854398825596\n"
     ]
    }
   ],
   "source": [
    "salary_sqr = np.sqrt(((s -salary_av)**2).sum() / s.count())\n",
    "print(f'Ответ: {salary_sqr}')"
   ]
  },
  {
   "cell_type": "markdown",
   "metadata": {},
   "source": [
    "Смещенная оценка дисперсии:"
   ]
  },
  {
   "cell_type": "code",
   "execution_count": 5,
   "metadata": {},
   "outputs": [
    {
     "name": "stdout",
     "output_type": "stream",
     "text": [
      "Ответ: 950.11\n"
     ]
    }
   ],
   "source": [
    "salary_var1 = ((s - salary_av)**2).sum() /s.count()\n",
    "print(f'Ответ: {salary_var1}')"
   ]
  },
  {
   "cell_type": "markdown",
   "metadata": {},
   "source": [
    "Несмещенная оценка дисперсии:"
   ]
  },
  {
   "cell_type": "code",
   "execution_count": 6,
   "metadata": {},
   "outputs": [
    {
     "name": "stdout",
     "output_type": "stream",
     "text": [
      "Ответ: 1000.1157894736842\n"
     ]
    }
   ],
   "source": [
    "salary_var2 = ((s - salary_av)**2).sum() /(s.count()-1)\n",
    "print(f'Ответ: {salary_var2}')"
   ]
  },
  {
   "cell_type": "markdown",
   "metadata": {},
   "source": [
    "#### 2. В первом ящике находится 8 мячей, из которых 5 - белые. Во втором ящике - 12 мячей, из которых 5 белых. Из первого ящика вытаскивают случайным образом два мяча, из второго - 4. Какова вероятность того, что 3 мяча белые?"
   ]
  },
  {
   "cell_type": "markdown",
   "metadata": {},
   "source": [
    "Варианты:\n",
    "#### 1 ящик - 2 белых мяча, 2 ящик - 1 белый мяч\n",
    "#### 1 ящик - 1 белый мяч, 2 ящик -2 белых мяча\n",
    "#### 1 ящик - 0 белых мячей, 2 ящик - 3 белых мяча"
   ]
  },
  {
   "cell_type": "code",
   "execution_count": 7,
   "metadata": {},
   "outputs": [
    {
     "name": "stdout",
     "output_type": "stream",
     "text": [
      "Ответ: 0.3686868686868687\n"
     ]
    }
   ],
   "source": [
    "# 1 вариант\n",
    "P11 = combinations(5,2) * combinations(3,0) / combinations(8,2)\n",
    "P12 = combinations(5,1) * combinations(7,3) / combinations(12,4)\n",
    "\n",
    "# 2 вариант\n",
    "P21 = combinations(5,1) * combinations(3,1) / combinations(8,2)\n",
    "P22 = combinations(5,2) * combinations(7,2) / combinations(12,4)\n",
    "\n",
    "# 3 вариант\n",
    "P31 = combinations(5,0) * combinations(3,2) / combinations(8,2)\n",
    "P32 = combinations(5,3) * combinations(7,1) / combinations(12,4)\n",
    "\n",
    "# общая вероятность:\n",
    "P = P11*P12 + P21*P22 + P31*P32\n",
    "\n",
    "print(f'Ответ: {P}')"
   ]
  },
  {
   "cell_type": "markdown",
   "metadata": {},
   "source": [
    "#### 3. На соревновании по биатлону один из трех спортсменов стреляет и попадает в мишень. Вероятность попадания для первого спортсмена равна 0.9, для второго — 0.8, для третьего — 0.6. Найти вероятность того, что выстрел произведен:"
   ]
  },
  {
   "cell_type": "markdown",
   "metadata": {},
   "source": [
    "#### a). первым спортсменом"
   ]
  },
  {
   "cell_type": "markdown",
   "metadata": {},
   "source": [
    "До произведения выстрелов вероятность того, что спортсмены не промажут, составляет 1/3.\n",
    "Зная результат (произведено попадание) и зная вероятности попадания каждого спортсмена, можно применить формулу Байеса:"
   ]
  },
  {
   "cell_type": "code",
   "execution_count": 8,
   "metadata": {},
   "outputs": [
    {
     "name": "stdout",
     "output_type": "stream",
     "text": [
      "Вероятность, что попал первый спортсмен: 0.391304347826087\n"
     ]
    }
   ],
   "source": [
    "P = (1/3*0.9)/(1/3*0.9 + 1/3*0.8 + 1/3*0.6)\n",
    "print(f'Вероятность, что попал первый спортсмен: {P}')"
   ]
  },
  {
   "cell_type": "markdown",
   "metadata": {},
   "source": [
    "#### б). вторым спортсменом"
   ]
  },
  {
   "cell_type": "code",
   "execution_count": 9,
   "metadata": {},
   "outputs": [
    {
     "name": "stdout",
     "output_type": "stream",
     "text": [
      "Вероятность, что попал второй спортсмен: 0.3478260869565218\n"
     ]
    }
   ],
   "source": [
    "P = (1/3*0.8)/(1/3*0.9 + 1/3*0.8 + 1/3*0.6)\n",
    "print(f'Вероятность, что попал второй спортсмен: {P}')"
   ]
  },
  {
   "cell_type": "markdown",
   "metadata": {},
   "source": [
    "#### в). третьим спортсменом"
   ]
  },
  {
   "cell_type": "code",
   "execution_count": 10,
   "metadata": {},
   "outputs": [
    {
     "name": "stdout",
     "output_type": "stream",
     "text": [
      "Вероятность, что попал третий спортсмен: 0.2608695652173913\n"
     ]
    }
   ],
   "source": [
    "P = (1/3*0.6)/(1/3*0.9 + 1/3*0.8 + 1/3*0.6)\n",
    "print(f'Вероятность, что попал третий спортсмен: {P}')"
   ]
  },
  {
   "cell_type": "markdown",
   "metadata": {},
   "source": [
    "#### 4. В университет на факультеты A и B поступило равное количество студентов, а на факультет C студентов поступило столько же, сколько на A и B вместе. Вероятность того, что студент факультета A сдаст первую сессию, равна 0.8. Для студента факультета B эта вероятность равна 0.7, а для студента факультета C - 0.9. Студент сдал первую сессию. Какова вероятность, что он учится: "
   ]
  },
  {
   "cell_type": "markdown",
   "metadata": {},
   "source": [
    "#### a). на факультете A"
   ]
  },
  {
   "cell_type": "markdown",
   "metadata": {},
   "source": [
    "До сдачи сессии вероятность того, что произвольный студент сдаст сессию различна для факультетов. Для факультета А и Б  она равна 0.25, а для факультета С равна 0.5 (по количеству студентов на факультете).\n",
    "Решаем через формулу Байеса:"
   ]
  },
  {
   "cell_type": "code",
   "execution_count": 11,
   "metadata": {},
   "outputs": [
    {
     "name": "stdout",
     "output_type": "stream",
     "text": [
      "Вероятность, что студент учится на факультете А: 0.24242424242424246\n"
     ]
    }
   ],
   "source": [
    "P = (1/4*0.8)/(1/4*0.8 + 1/4*0.7 + 1/2*0.9)\n",
    "print(f'Вероятность, что студент учится на факультете А: {P}')"
   ]
  },
  {
   "cell_type": "markdown",
   "metadata": {},
   "source": [
    "#### б). на факультете B"
   ]
  },
  {
   "cell_type": "code",
   "execution_count": 12,
   "metadata": {},
   "outputs": [
    {
     "name": "stdout",
     "output_type": "stream",
     "text": [
      "Вероятность, что студент учится на факультете B: 0.21212121212121213\n"
     ]
    }
   ],
   "source": [
    "P = (1/4*0.7)/(1/4*0.8 + 1/4*0.7 + 1/2*0.9)\n",
    "print(f'Вероятность, что студент учится на факультете B: {P}')"
   ]
  },
  {
   "cell_type": "markdown",
   "metadata": {},
   "source": [
    "#### в). на факультете С"
   ]
  },
  {
   "cell_type": "code",
   "execution_count": 13,
   "metadata": {},
   "outputs": [
    {
     "name": "stdout",
     "output_type": "stream",
     "text": [
      "Вероятность, что студент учится на факультете C: 0.5454545454545455\n"
     ]
    }
   ],
   "source": [
    "P = (1/2*0.9)/(1/4*0.8 + 1/4*0.7 + 1/2*0.9)\n",
    "print(f'Вероятность, что студент учится на факультете C: {P}')"
   ]
  },
  {
   "cell_type": "markdown",
   "metadata": {},
   "source": [
    "#### 5. Устройство состоит из трех деталей. Для первой детали вероятность выйти из строя в первый месяц равна 0.1, для второй - 0.2, для третьей - 0.25. Какова вероятность того, что в первый месяц выйдут из строя:"
   ]
  },
  {
   "cell_type": "markdown",
   "metadata": {},
   "source": [
    "#### а). все детали"
   ]
  },
  {
   "cell_type": "code",
   "execution_count": 14,
   "metadata": {},
   "outputs": [
    {
     "name": "stdout",
     "output_type": "stream",
     "text": [
      "Вероятность, что выйдут из строя все детали: 0.005000000000000001\n"
     ]
    }
   ],
   "source": [
    "allP = 0.1*0.2*0.25\n",
    "print(f'Вероятность, что выйдут из строя все детали: {allP}')"
   ]
  },
  {
   "cell_type": "markdown",
   "metadata": {},
   "source": [
    "#### б). только две детали"
   ]
  },
  {
   "cell_type": "markdown",
   "metadata": {},
   "source": [
    "Здесь вероятность этого события можно представить, как сумму вероятностей событий \"из строя вышла 1 и 2 деталь и не вышла 3\", \"из строя вышла 1 и 3 деталь, и не вышла 2\", \"из строя вышла 2 и 3 деталь, и не вышла 1\":"
   ]
  },
  {
   "cell_type": "code",
   "execution_count": 15,
   "metadata": {},
   "outputs": [
    {
     "name": "stdout",
     "output_type": "stream",
     "text": [
      "Вероятность, что выйдут из строя только две детали: 0.08000000000000002\n"
     ]
    }
   ],
   "source": [
    "P2 = 0.1*0.2*0.75 + 0.1*0.8*0.25 + 0.9*0.2*0.25\n",
    "print(f'Вероятность, что выйдут из строя только две детали: {P2}')"
   ]
  },
  {
   "cell_type": "markdown",
   "metadata": {},
   "source": [
    "#### в). хотя бы одна деталь"
   ]
  },
  {
   "cell_type": "code",
   "execution_count": 16,
   "metadata": {},
   "outputs": [
    {
     "name": "stdout",
     "output_type": "stream",
     "text": [
      "Вероятность, что ни одна деталь не выйдет из строя: 0.54\n",
      "Вероятность, что выйдет из строя хотя бы одна деталь: 0.45999999999999996\n"
     ]
    }
   ],
   "source": [
    "#Это событие противоположно событию \"ни одна деталь не выйдет из строя\",\n",
    "#соответственно, можно вычислить вероятность события, что ни одна деталь не выйдет из строя,\n",
    "#и вычесть его из единицы:\n",
    "notP = (1-0.1)*(1-0.2)*(1-0.25)\n",
    "print(f'Вероятность, что ни одна деталь не выйдет из строя: {notP}')\n",
    "P = 1-notP\n",
    "print(f'Вероятность, что выйдет из строя хотя бы одна деталь: {P}')"
   ]
  },
  {
   "cell_type": "markdown",
   "metadata": {},
   "source": [
    "#### г). от одной до двух деталей"
   ]
  },
  {
   "cell_type": "markdown",
   "metadata": {},
   "source": [
    "Вероятность этого события можно представить как сумму вероятностей несовместных событий \"из строя вышла только одна деталь\" и \"из строя вышли только две детали\".\n",
    "Вероятность того, что выйдет только 2 детали, уже подсчитана (P2), нужно вычислить вероятность, что выйдет из строя только одна деталь:"
   ]
  },
  {
   "cell_type": "code",
   "execution_count": 17,
   "metadata": {},
   "outputs": [
    {
     "name": "stdout",
     "output_type": "stream",
     "text": [
      "Вероятность, что выйдет из строя только одна деталь: 0.375\n",
      "Вероятность, что выйдут из строя от 1 до 2 деталей: 0.455\n"
     ]
    }
   ],
   "source": [
    "P1 = 0.1*0.8*0.75 + 0.9*0.2*0.75 + 0.9*0.8*0.25\n",
    "P1_2 = P1+P2\n",
    "print(f'Вероятность, что выйдет из строя только одна деталь: {P1}')\n",
    "print(f'Вероятность, что выйдут из строя от 1 до 2 деталей: {P1_2}')"
   ]
  }
 ],
 "metadata": {
  "kernelspec": {
   "display_name": "Python 3",
   "language": "python",
   "name": "python3"
  },
  "language_info": {
   "codemirror_mode": {
    "name": "ipython",
    "version": 3
   },
   "file_extension": ".py",
   "mimetype": "text/x-python",
   "name": "python",
   "nbconvert_exporter": "python",
   "pygments_lexer": "ipython3",
   "version": "3.7.3"
  }
 },
 "nbformat": 4,
 "nbformat_minor": 2
}
