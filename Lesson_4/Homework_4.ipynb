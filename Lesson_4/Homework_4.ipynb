{
 "cells": [
  {
   "cell_type": "markdown",
   "metadata": {},
   "source": [
    "### Домашняя работа: Урок 4. Непрерывные случайные величины. Функция распределения и плотность распределения вероятностей. Равномерное и нормальное распределение. Центральная предельная теорема"
   ]
  },
  {
   "cell_type": "code",
   "execution_count": 1,
   "metadata": {},
   "outputs": [],
   "source": [
    "import numpy as np\n",
    "import matplotlib.pyplot as plt\n",
    "import seaborn as sns"
   ]
  },
  {
   "cell_type": "markdown",
   "metadata": {},
   "source": [
    "#### 1. Случайная непрерывная величина A имеет равномерное распределение на промежутке (200, 800]. Найдите ее среднее значение и дисперсию."
   ]
  },
  {
   "cell_type": "code",
   "execution_count": 2,
   "metadata": {},
   "outputs": [
    {
     "name": "stdout",
     "output_type": "stream",
     "text": [
      "Ответ: 500.0\n"
     ]
    }
   ],
   "source": [
    "# Среднее значение (матожидание):\n",
    "mx = (800+200)/2\n",
    "\n",
    "print(f'Ответ: {mx}')"
   ]
  },
  {
   "cell_type": "code",
   "execution_count": 3,
   "metadata": {},
   "outputs": [
    {
     "name": "stdout",
     "output_type": "stream",
     "text": [
      "Ответ: 500.0\n"
     ]
    }
   ],
   "source": [
    "# Дисперсия\n",
    "dx = (800-200)**2/12\n",
    "\n",
    "print(f'Ответ: {mx}')"
   ]
  },
  {
   "cell_type": "markdown",
   "metadata": {},
   "source": [
    "#### 2. О случайной непрерывной равномерно распределенной величине B известно, что ее дисперсия равна 0.2.\n",
    "#### Можно ли найти правую границу величины B и ее среднее значение зная, что левая граница равна 0.5?\n",
    "#### Если да, найдите ее."
   ]
  },
  {
   "cell_type": "markdown",
   "metadata": {},
   "source": [
    "Для нахождения правой границы используем следующую формулу:"
   ]
  },
  {
   "cell_type": "markdown",
   "metadata": {},
   "source": [
    "$$D(X) = \\frac{(b - a)^2}{12}$$"
   ]
  },
  {
   "cell_type": "code",
   "execution_count": 4,
   "metadata": {},
   "outputs": [
    {
     "name": "stdout",
     "output_type": "stream",
     "text": [
      "Правая граница распределения: 2.049193338482967\n"
     ]
    }
   ],
   "source": [
    "a = 0.5\n",
    "dx = 0.2\n",
    "b = np.sqrt(12*dx)+a\n",
    "print(f'Правая граница распределения: {b}')"
   ]
  },
  {
   "cell_type": "code",
   "execution_count": 5,
   "metadata": {},
   "outputs": [
    {
     "name": "stdout",
     "output_type": "stream",
     "text": [
      "среднее значение распределения: 0.7745966692414834\n"
     ]
    }
   ],
   "source": [
    "print(f'среднее значение распределения: {(b-a)/2}')"
   ]
  },
  {
   "cell_type": "markdown",
   "metadata": {},
   "source": [
    "#### 3. Непрерывная случайная величина X распределена нормально и задана плотностью распределения\n",
    "#### f(x) = (1 / (4 * sqrt(2*pi))) * (exp(-(x+2)**2) / 32).\n",
    "#### Найдите:"
   ]
  },
  {
   "cell_type": "markdown",
   "metadata": {},
   "source": [
    "##### а). M(X)"
   ]
  },
  {
   "cell_type": "markdown",
   "metadata": {},
   "source": [
    "Исходя из формулы:"
   ]
  },
  {
   "cell_type": "markdown",
   "metadata": {},
   "source": [
    "$$f(x) = \\frac{1}{\\sigma \\sqrt{2 \\pi}} e ^ {- \\frac{(x - a)^2}{2 \\sigma^2}},$$"
   ]
  },
  {
   "cell_type": "markdown",
   "metadata": {},
   "source": [
    "Мат. ожидание равно (-2)"
   ]
  },
  {
   "cell_type": "markdown",
   "metadata": {},
   "source": [
    "##### б). D(X)"
   ]
  },
  {
   "cell_type": "markdown",
   "metadata": {},
   "source": [
    "Дисперсия равна 16"
   ]
  },
  {
   "cell_type": "markdown",
   "metadata": {},
   "source": [
    "##### в). std(X) (среднее квадратичное отклонение)"
   ]
  },
  {
   "cell_type": "markdown",
   "metadata": {},
   "source": [
    "Среднеквадратичное отклонение равно 4"
   ]
  },
  {
   "cell_type": "markdown",
   "metadata": {},
   "source": [
    "#### 4. Рост взрослого населения города X имеет нормальное распределение.\n",
    "#### Причем, средний рост равен 174 см, а среднее квадратичное отклонение равно 8 см."
   ]
  },
  {
   "cell_type": "code",
   "execution_count": 6,
   "metadata": {},
   "outputs": [
    {
     "data": {
      "image/png": "[encoded data removed]",
      "text/plain": [
       "<Figure size 720x360 with 1 Axes>"
      ]
     },
     "metadata": {
      "needs_background": "light"
     },
     "output_type": "display_data"
    }
   ],
   "source": [
    "mx = 174\n",
    "std = 8\n",
    "\n",
    "#создадим выборку с нормальным распределением, соответствующую нашим параметрам\n",
    "sample = np.random.normal(mx, std, 100000)\n",
    "\n",
    "median = np.median(sample)\n",
    "sigma = np.std(sample)\n",
    "\n",
    "plt.figure(figsize=(10, 5))\n",
    "plt.hist(sample, bins=100)\n",
    "\n",
    "plt.show()"
   ]
  },
  {
   "cell_type": "markdown",
   "metadata": {},
   "source": [
    "#### Какова вероятность того, что случайным образом выбранный взрослый человек имеет рост:"
   ]
  },
  {
   "cell_type": "markdown",
   "metadata": {},
   "source": [
    "а). больше 182 см"
   ]
  },
  {
   "cell_type": "code",
   "execution_count": 7,
   "metadata": {},
   "outputs": [
    {
     "name": "stdout",
     "output_type": "stream",
     "text": [
      "Ответ: по анализу выборки вероятность равна 0.15732, по правилу трех сигм вероятность равна 0.15999999999999998\n"
     ]
    }
   ],
   "source": [
    "X = sample[sample > 182].shape[0] / sample.shape[0]\n",
    "#значение 182 - это первая положительная сигма выборки (174 + 8)\n",
    "#по правилу трех сигм между первыми двумя сигмами  находится 68% выборки\n",
    "#значит величина после первой сигмы имеет вероятность:\n",
    "X_sigma = (1-0.68)/2\n",
    "print(f'Ответ: по анализу выборки вероятность равна {X}, по правилу трех сигм вероятность равна {X_sigma}')"
   ]
  },
  {
   "cell_type": "markdown",
   "metadata": {},
   "source": [
    "Сразу проанализируем выборку по правилу 3 сигм:\n",
    "сигма (-3) = 150, до неё (1 - 0.9972)/2 = 0.0014 выборки\n",
    "сигма (-2) = 158, до неё (1 - 0.954)/2 = 0.023 выборки\n",
    "сигма (-1) = 166, до неё (1 - 0.68)/2 = 0.16 выборки\n",
    "сигма (1) = 182, до неё 0.16 + 0.68  = 0.84 выборки\n",
    "сигма (2) = 190, до неё 0.16 + 0.68 + 0.137 = 0.977 выборки\n",
    "сигма (3) = 198, до неё 0.16 + 0.68 + 0.137 + 0.0216 = 0,9986 выборки"
   ]
  },
  {
   "cell_type": "markdown",
   "metadata": {},
   "source": [
    "б). больше 190 см"
   ]
  },
  {
   "cell_type": "code",
   "execution_count": 8,
   "metadata": {},
   "outputs": [
    {
     "name": "stdout",
     "output_type": "stream",
     "text": [
      "Ответ: по анализу выборки вероятность равна 0.02196, по правилу трех сигм вероятность равна 0.02300000000000002\n"
     ]
    }
   ],
   "source": [
    "X = sample[sample > 190].shape[0] / sample.shape[0]\n",
    "#значение 190 - это вторая положительная сигма выборки (174 + 8*2)\n",
    "#по правилу трех сигм между вторыми двумя сигмами  находится 95.4% выборки\n",
    "#значит величина после первой сигмы имеет вероятность:\n",
    "X_sigma = (1-0.954)/2\n",
    "print(f'Ответ: по анализу выборки вероятность равна {X}, по правилу трех сигм вероятность равна {X_sigma}')"
   ]
  },
  {
   "cell_type": "markdown",
   "metadata": {},
   "source": [
    "в). от 166 см до 190 см"
   ]
  },
  {
   "cell_type": "code",
   "execution_count": 9,
   "metadata": {},
   "outputs": [
    {
     "name": "stdout",
     "output_type": "stream",
     "text": [
      "Ответ: по анализу выборки вероятность равна 0.81911, по правилу трех сигм вероятность равна 0.8170000000000001\n"
     ]
    }
   ],
   "source": [
    "X = sample[(sample >= 166) & (sample <= 190)].shape[0] / sample.shape[0]\n",
    "#значение 190 - это вторая положительная сигма выборки \n",
    "#значение 166 - это первая отрицательная сигма выборки\n",
    "X_sigma = (0.68 + 0.137)\n",
    "print(f'Ответ: по анализу выборки вероятность равна {X}, по правилу трех сигм вероятность равна {X_sigma}')"
   ]
  },
  {
   "cell_type": "markdown",
   "metadata": {},
   "source": [
    "г). от 166 см до 182 см"
   ]
  },
  {
   "cell_type": "code",
   "execution_count": 10,
   "metadata": {},
   "outputs": [
    {
     "name": "stdout",
     "output_type": "stream",
     "text": [
      "Ответ: по анализу выборки вероятность равна 0.68375, по правилу трех сигм вероятность равна 0.68\n"
     ]
    }
   ],
   "source": [
    "X = sample[(sample >= 166) & (sample <= 182)].shape[0] / sample.shape[0]\n",
    "#значение 166 - это первая отрицательная сигма выборки\n",
    "#значение 182 - это первая положительная сигма выборки \n",
    "X_sigma = 0.68\n",
    "print(f'Ответ: по анализу выборки вероятность равна {X}, по правилу трех сигм вероятность равна {X_sigma}')"
   ]
  },
  {
   "cell_type": "markdown",
   "metadata": {},
   "source": [
    "д). от 158 см до 190 см"
   ]
  },
  {
   "cell_type": "code",
   "execution_count": 11,
   "metadata": {},
   "outputs": [
    {
     "name": "stdout",
     "output_type": "stream",
     "text": [
      "Ответ: по анализу выборки вероятность равна 0.82031, по правилу трех сигм вероятность равна 0.8170000000000001\n"
     ]
    }
   ],
   "source": [
    "X = sample[(sample >= 158) & (sample <= 182)].shape[0] / sample.shape[0]\n",
    "#значение 158 - это вторая отрицательная сигма выборки\n",
    "#значение 182 - это первая положительная сигма выборки \n",
    "X_sigma = 0.68 + 0.137\n",
    "print(f'Ответ: по анализу выборки вероятность равна {X}, по правилу трех сигм вероятность равна {X_sigma}')"
   ]
  },
  {
   "cell_type": "markdown",
   "metadata": {},
   "source": [
    "е). не выше 150 см или не ниже 190 см"
   ]
  },
  {
   "cell_type": "code",
   "execution_count": 12,
   "metadata": {},
   "outputs": [
    {
     "name": "stdout",
     "output_type": "stream",
     "text": [
      "Ответ: по анализу выборки вероятность равна 0.02346, по правилу трех сигм вероятность равна 0.024399999999999998\n"
     ]
    }
   ],
   "source": [
    "X = sample[(sample <= 150) | (sample >= 190)].shape[0] / sample.shape[0]\n",
    "#значение 150 - это третья отрицательная сигма выборки\n",
    "#значение 190 - это вторая положительная сигма выборки \n",
    "X_sigma = 0.0014 + 0.023\n",
    "print(f'Ответ: по анализу выборки вероятность равна {X}, по правилу трех сигм вероятность равна {X_sigma}')"
   ]
  },
  {
   "cell_type": "markdown",
   "metadata": {},
   "source": [
    "ё). не выше 150 см или не ниже 198 см"
   ]
  },
  {
   "cell_type": "code",
   "execution_count": 13,
   "metadata": {},
   "outputs": [
    {
     "name": "stdout",
     "output_type": "stream",
     "text": [
      "Ответ: по анализу выборки вероятность равна 0.00278, по правилу трех сигм вероятность равна 0.0028\n"
     ]
    }
   ],
   "source": [
    "X = sample[(sample <= 150) | (sample >= 198)].shape[0] / sample.shape[0]\n",
    "#значение 150 - это третья отрицательная сигма выборки\n",
    "#значение 198 - это третья положительная сигма выборки \n",
    "X_sigma = 0.0014 + 0.0014\n",
    "print(f'Ответ: по анализу выборки вероятность равна {X}, по правилу трех сигм вероятность равна {X_sigma}')"
   ]
  },
  {
   "cell_type": "markdown",
   "metadata": {},
   "source": [
    "ж). ниже 166 см."
   ]
  },
  {
   "cell_type": "code",
   "execution_count": 14,
   "metadata": {},
   "outputs": [
    {
     "name": "stdout",
     "output_type": "stream",
     "text": [
      "Ответ: по анализу выборки вероятность равна 0.15893, по правилу трех сигм вероятность равна 0.15999999999999998\n"
     ]
    }
   ],
   "source": [
    "X = sample[(sample <= 166)].shape[0] / sample.shape[0]\n",
    "#значение 166 - это первая отрицательная сигма выборки\n",
    "X_sigma = (1-0.68)/2\n",
    "print(f'Ответ: по анализу выборки вероятность равна {X}, по правилу трех сигм вероятность равна {X_sigma}')"
   ]
  },
  {
   "cell_type": "markdown",
   "metadata": {},
   "source": [
    "#### 5. На сколько сигм (средних квадратичных отклонений) отклоняется рост человека, равный 190 см, от\n",
    "##### математического ожидания роста в популяции, в которой M(X) = 178 см и D(X) = 25 кв.см?"
   ]
  },
  {
   "cell_type": "code",
   "execution_count": 15,
   "metadata": {},
   "outputs": [
    {
     "name": "stdout",
     "output_type": "stream",
     "text": [
      "Ответ: на 2.4 сигм\n"
     ]
    }
   ],
   "source": [
    "def normal(mx, std, x):\n",
    "    return np.exp(- ((x - mx) ** 2) / (2 * std ** 2)) / (std * np.sqrt(2 * np.pi))\n",
    "\n",
    "mx = 178\n",
    "std = 5\n",
    "\n",
    "sample = np.random.normal(mx, std, 1000)\n",
    "\n",
    "std_med = (190 - mx) / std\n",
    "print(f'Ответ: на {std_med} сигм')"
   ]
  }
 ],
 "metadata": {
  "kernelspec": {
   "display_name": "Python 3",
   "language": "python",
   "name": "python3"
  },
  "language_info": {
   "codemirror_mode": {
    "name": "ipython",
    "version": 3
   },
   "file_extension": ".py",
   "mimetype": "text/x-python",
   "name": "python",
   "nbconvert_exporter": "python",
   "pygments_lexer": "ipython3",
   "version": "3.7.3"
  }
 },
 "nbformat": 4,
 "nbformat_minor": 2
}
