{
 "cells": [
  {
   "cell_type": "markdown",
   "metadata": {},
   "source": [
    "### Домашняя работа: Урок 7. Многомерный статистический анализ. Линейная регрессия"
   ]
  },
  {
   "cell_type": "code",
   "execution_count": 1,
   "metadata": {},
   "outputs": [],
   "source": [
    "import matplotlib.pyplot as plt\n",
    "import numpy as np"
   ]
  },
  {
   "cell_type": "markdown",
   "metadata": {},
   "source": [
    "#### Задание 1. Даны значения величины заработной платы заемщиков банка (zp) и значения их поведенческого кредитного скоринга (ks): \n",
    "#### zp = [35, 45, 190, 200, 40, 70, 54, 150, 120, 110],\n",
    "#### ks = [401, 574, 874, 919, 459, 739, 653, 902, 746, 832]. \n",
    "#### Используя математические операции, посчитать коэффициенты линейной регрессии, приняв за X заработную плату (то есть, zp - признак), а за y - значения скорингового балла (то есть, ks - целевая переменная). Произвести расчет как с использованием intercept, так и без."
   ]
  },
  {
   "cell_type": "code",
   "execution_count": 2,
   "metadata": {},
   "outputs": [
    {
     "data": {
      "image/png": "[encoded data removed]",
      "text/plain": [
       "<Figure size 432x288 with 1 Axes>"
      ]
     },
     "metadata": {
      "needs_background": "light"
     },
     "output_type": "display_data"
    }
   ],
   "source": [
    "zp = np.array([35, 45, 190, 200, 40, 70, 54, 150, 120, 110])\n",
    "ks = np.array([401, 574, 874, 919, 459, 739, 653, 902, 746, 832])\n",
    "plt.scatter(zp,ks)\n",
    "plt.show()"
   ]
  },
  {
   "cell_type": "code",
   "execution_count": 3,
   "metadata": {},
   "outputs": [
    {
     "data": {
      "text/plain": [
       "2.6205388824027653"
      ]
     },
     "execution_count": 3,
     "metadata": {},
     "output_type": "execute_result"
    }
   ],
   "source": [
    "n = len(zp)\n",
    "b = (n * (np.sum( zp * ks )) - (np.sum( zp ) * np.sum( ks ))) / (n * (np.sum(zp**2)) - ((np.sum(zp)**2)))\n",
    "b"
   ]
  },
  {
   "cell_type": "code",
   "execution_count": 4,
   "metadata": {},
   "outputs": [
    {
     "data": {
      "text/plain": [
       "444.17735732435955"
      ]
     },
     "execution_count": 4,
     "metadata": {},
     "output_type": "execute_result"
    }
   ],
   "source": [
    "a = np.mean(ks) - b * np.mean(zp)\n",
    "a"
   ]
  },
  {
   "cell_type": "code",
   "execution_count": 5,
   "metadata": {},
   "outputs": [
    {
     "data": {
      "image/png": "[encoded data removed]",
      "text/plain": [
       "<Figure size 432x288 with 1 Axes>"
      ]
     },
     "metadata": {
      "needs_background": "light"
     },
     "output_type": "display_data"
    }
   ],
   "source": [
    "plt.scatter(zp,ks)\n",
    "plt.plot(zp, a + b*zp)\n",
    "plt.show()"
   ]
  },
  {
   "cell_type": "markdown",
   "metadata": {},
   "source": [
    "#### Матричный способ:"
   ]
  },
  {
   "cell_type": "code",
   "execution_count": 6,
   "metadata": {},
   "outputs": [
    {
     "data": {
      "text/plain": [
       "array([[ 35],\n",
       "       [ 45],\n",
       "       [190],\n",
       "       [200],\n",
       "       [ 40],\n",
       "       [ 70],\n",
       "       [ 54],\n",
       "       [150],\n",
       "       [120],\n",
       "       [110]])"
      ]
     },
     "execution_count": 6,
     "metadata": {},
     "output_type": "execute_result"
    }
   ],
   "source": [
    "zp_t = zp.reshape(10,1)\n",
    "zp_t"
   ]
  },
  {
   "cell_type": "code",
   "execution_count": 7,
   "metadata": {
    "scrolled": true
   },
   "outputs": [
    {
     "data": {
      "text/plain": [
       "array([[401],\n",
       "       [574],\n",
       "       [874],\n",
       "       [919],\n",
       "       [459],\n",
       "       [739],\n",
       "       [653],\n",
       "       [902],\n",
       "       [746],\n",
       "       [832]])"
      ]
     },
     "execution_count": 7,
     "metadata": {},
     "output_type": "execute_result"
    }
   ],
   "source": [
    "ks_t = ks.reshape(10,1)\n",
    "ks_t"
   ]
  },
  {
   "cell_type": "markdown",
   "metadata": {},
   "source": [
    "#### без интерцепта:"
   ]
  },
  {
   "cell_type": "code",
   "execution_count": 8,
   "metadata": {},
   "outputs": [
    {
     "data": {
      "text/plain": [
       "array([[5.88982042]])"
      ]
     },
     "execution_count": 8,
     "metadata": {},
     "output_type": "execute_result"
    }
   ],
   "source": [
    "B_noInt = np.dot(np.linalg.inv(np.dot(zp_t.T,zp_t)),zp_t.T@ks_t)\n",
    "B_noInt"
   ]
  },
  {
   "cell_type": "code",
   "execution_count": 9,
   "metadata": {},
   "outputs": [
    {
     "data": {
      "image/png": "[encoded data removed]",
      "text/plain": [
       "<Figure size 432x288 with 1 Axes>"
      ]
     },
     "metadata": {
      "needs_background": "light"
     },
     "output_type": "display_data"
    }
   ],
   "source": [
    "plt.scatter(zp_t,ks_t)\n",
    "plt.plot(zp_t, B_noInt*zp_t)\n",
    "plt.show()"
   ]
  },
  {
   "cell_type": "markdown",
   "metadata": {},
   "source": [
    "#### с интерцептом:"
   ]
  },
  {
   "cell_type": "code",
   "execution_count": 10,
   "metadata": {},
   "outputs": [
    {
     "data": {
      "text/plain": [
       "array([[444.17735732],\n",
       "       [  2.62053888]])"
      ]
     },
     "execution_count": 10,
     "metadata": {},
     "output_type": "execute_result"
    }
   ],
   "source": [
    "zp_tr = np.hstack([np.ones((10,1)),zp_t])\n",
    "B_Int = np.dot(np.linalg.inv(np.dot(zp_tr.T,zp_tr)),zp_tr.T@ks_t)\n",
    "B_Int"
   ]
  },
  {
   "cell_type": "code",
   "execution_count": 11,
   "metadata": {},
   "outputs": [
    {
     "data": {
      "image/png": "[encoded data removed]",
      "text/plain": [
       "<Figure size 432x288 with 1 Axes>"
      ]
     },
     "metadata": {
      "needs_background": "light"
     },
     "output_type": "display_data"
    }
   ],
   "source": [
    "plt.scatter(zp_t,ks_t)\n",
    "plt.plot(zp_t, B_Int[0] + B_Int[1]*zp_t)\n",
    "plt.show()"
   ]
  },
  {
   "cell_type": "markdown",
   "metadata": {},
   "source": [
    "#### Коэффициенты при мат. расчете и матричном способе с интерцептом - совпали."
   ]
  },
  {
   "cell_type": "markdown",
   "metadata": {},
   "source": [
    "#### 2. Посчитать коэффициент линейной регрессии при заработной плате (zp), используя градиентный спуск (без intercept)."
   ]
  },
  {
   "cell_type": "code",
   "execution_count": 43,
   "metadata": {},
   "outputs": [
    {
     "name": "stdout",
     "output_type": "stream",
     "text": [
      "B1 = 1.3473020000000002, mse = 340789.7473755218\n",
      "B1 = 1.251609185336, mse = 352892.9018633886\n",
      "B1 = 1.2779756179460013, mse = 349532.913400198\n",
      "B1 = 1.2707108220361025, mse = 350456.78596965194\n",
      "B1 = 1.2727125057827489, mse = 350202.0843751784\n",
      "B1 = 1.2721609778566678, mse = 350272.25179636246\n",
      "B1 = 1.2723129414491967, mse = 350252.91758996417\n",
      "B1 = 1.27227107061662, mse = 350258.24471901584\n",
      "B1 = 1.2722826073708617, mse = 350256.7769196728\n",
      "B1 = 1.2722794286258916, mse = 350257.1813449954\n",
      "B1 = 1.2722803044718511, mse = 350257.0699128496\n",
      "B1 = 1.272280063148262, mse = 350257.1006159695\n",
      "B1 = 1.2722801296406332, mse = 350257.09215627733\n",
      "B1 = 1.2722801113198574, mse = 350257.09448719316\n",
      "B1 = 1.2722801163678172, mse = 350257.09384495125\n",
      "B1 = 1.2722801149769427, mse = 350257.09402190946\n",
      "B1 = 1.272280115360173, mse = 350257.09397315176\n",
      "B1 = 1.2722801152545808, mse = 350257.0939865861\n",
      "B1 = 1.2722801152836747, mse = 350257.09398288454\n",
      "B1 = 1.2722801152756587, mse = 350257.09398390446\n",
      "B1 = 1.2722801152778676, mse = 350257.0939836234\n",
      "B1 = 1.272280115277259, mse = 350257.0939837008\n",
      "B1 = 1.2722801152774266, mse = 350257.09398367954\n",
      "B1 = 1.2722801152773804, mse = 350257.0939836854\n",
      "B1 = 1.272280115277393, mse = 350257.09398368374\n",
      "B1 = 1.2722801152773895, mse = 350257.0939836842\n",
      "B1 = 1.2722801152773906, mse = 350257.0939836841\n",
      "B1 = 1.27228011527739, mse = 350257.09398368414\n",
      "B1 = 1.2722801152773902, mse = 350257.09398368414\n",
      "B1 = 1.2722801152773902, mse = 350257.09398368414\n",
      "B1 = 1.2722801152773902, mse = 350257.09398368414\n",
      "B1 = 1.2722801152773902, mse = 350257.09398368414\n",
      "B1 = 1.2722801152773902, mse = 350257.09398368414\n",
      "B1 = 1.2722801152773902, mse = 350257.09398368414\n",
      "B1 = 1.2722801152773902, mse = 350257.09398368414\n",
      "B1 = 1.2722801152773902, mse = 350257.09398368414\n",
      "B1 = 1.2722801152773902, mse = 350257.09398368414\n",
      "B1 = 1.2722801152773902, mse = 350257.09398368414\n",
      "B1 = 1.2722801152773902, mse = 350257.09398368414\n",
      "B1 = 1.2722801152773902, mse = 350257.09398368414\n",
      "B1 = 1.2722801152773902, mse = 350257.09398368414\n",
      "B1 = 1.2722801152773902, mse = 350257.09398368414\n",
      "B1 = 1.2722801152773902, mse = 350257.09398368414\n",
      "B1 = 1.2722801152773902, mse = 350257.09398368414\n",
      "B1 = 1.2722801152773902, mse = 350257.09398368414\n",
      "B1 = 1.2722801152773902, mse = 350257.09398368414\n",
      "B1 = 1.2722801152773902, mse = 350257.09398368414\n",
      "B1 = 1.2722801152773902, mse = 350257.09398368414\n",
      "B1 = 1.2722801152773902, mse = 350257.09398368414\n",
      "B1 = 1.2722801152773902, mse = 350257.09398368414\n"
     ]
    }
   ],
   "source": [
    "def mse(B1, ks, zp, n):\n",
    "    return np.sum((B1*zp-ks)**2)/n\n",
    "\n",
    "alpha = 0.00001\n",
    "B1 = 1\n",
    "for i in range(50):\n",
    "    B1 = -alpha*(2/n)*np.sum((B1*zp-ks)*zp)\n",
    "    print(f'B1 = {B1}, mse = {mse(B1,ks,zp,n)}')"
   ]
  },
  {
   "cell_type": "markdown",
   "metadata": {},
   "source": [
    "Коэффициент B1 = 1.272280115"
   ]
  },
  {
   "cell_type": "markdown",
   "metadata": {},
   "source": [
    "#### 3. В каких случаях для вычисления доверительных интервалов и проверки статистических гипотез используется таблица значений функции Лапласа, а в каких - таблица критических точек распределения Стьюдента?"
   ]
  },
  {
   "cell_type": "markdown",
   "metadata": {},
   "source": [
    "Если случайная величина задана нормальным распределением и известна её дисперсия, то используется таблица значений функции Лапласа. Если дисперсия не известна, а можно лишь найти её несмещенную оценку, то используется таблица распределения Стьюдента"
   ]
  }
 ],
 "metadata": {
  "kernelspec": {
   "display_name": "Python 3",
   "language": "python",
   "name": "python3"
  },
  "language_info": {
   "codemirror_mode": {
    "name": "ipython",
    "version": 3
   },
   "file_extension": ".py",
   "mimetype": "text/x-python",
   "name": "python",
   "nbconvert_exporter": "python",
   "pygments_lexer": "ipython3",
   "version": "3.7.3"
  }
 },
 "nbformat": 4,
 "nbformat_minor": 2
}
