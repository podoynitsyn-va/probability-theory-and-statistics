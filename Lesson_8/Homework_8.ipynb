{
 "cells": [
  {
   "cell_type": "markdown",
   "metadata": {},
   "source": [
    "### Домашняя работа: Урок 8. Дисперсионный анализ. Логистическая регрессия"
   ]
  },
  {
   "cell_type": "markdown",
   "metadata": {},
   "source": [
    "#### 1. Провести дисперсионный анализ для определения того, есть ли различия среднего роста среди взрослых футболистов, хоккеистов и штангистов.\n",
    "#### Даны значения роста в трех группах случайно выбранных спортсменов:\n",
    "#### Футболисты: 173, 175, 180, 178, 177, 185, 183, 182.\n",
    "#### Хоккеисты: 177, 179, 180, 188, 177, 172, 171, 184, 180.\n",
    "#### Штангисты: 172, 173, 169, 177, 166, 180, 178, 177, 172, 166, 170."
   ]
  },
  {
   "cell_type": "code",
   "execution_count": 1,
   "metadata": {},
   "outputs": [],
   "source": [
    "import numpy as np\n",
    "from scipy import stats"
   ]
  },
  {
   "cell_type": "code",
   "execution_count": 2,
   "metadata": {},
   "outputs": [
    {
     "name": "stdout",
     "output_type": "stream",
     "text": [
      "Средний рост футболистов = 179.125\n",
      "Средний рост хоккеистов = 178.66666666666666\n",
      "Средний рост штангистов = 172.72727272727272\n"
     ]
    }
   ],
   "source": [
    "soccer_players = np.array([173, 175, 180, 178, 177, 185, 183, 182])\n",
    "hockey_players = np.array([177, 179, 180, 188, 177, 172, 171, 184, 180])\n",
    "weightlifters = np.array([172, 173, 169, 177, 166, 180, 178, 177, 172, 166, 170])\n",
    "print(f'Средний рост футболистов = {soccer_players.mean()}')\n",
    "print(f'Средний рост хоккеистов = {hockey_players.mean()}')\n",
    "print(f'Средний рост штангистов = {weightlifters.mean()}')"
   ]
  },
  {
   "cell_type": "markdown",
   "metadata": {},
   "source": [
    "Средний рост спортсменов различных видов спорта отличается друг от друга.\n",
    "Установим, что это различие статистически значимо:"
   ]
  },
  {
   "cell_type": "code",
   "execution_count": 3,
   "metadata": {},
   "outputs": [
    {
     "name": "stdout",
     "output_type": "stream",
     "text": [
      "Средний рост общий = 176.46428571428572\n"
     ]
    }
   ],
   "source": [
    "all_athletes = np.concatenate([soccer_players, hockey_players, weightlifters])\n",
    "print(f'Средний рост общий = {all_athletes.mean()}')"
   ]
  },
  {
   "cell_type": "code",
   "execution_count": 4,
   "metadata": {},
   "outputs": [
    {
     "name": "stdout",
     "output_type": "stream",
     "text": [
      "Cумма квадратов отклонений средних групповых значений = 253.9074675324678\n",
      "Остаточная сумма квадратов отклонений = 577.0568181818182\n"
     ]
    }
   ],
   "source": [
    "y1 = soccer_players\n",
    "y2 = hockey_players\n",
    "y3 = weightlifters\n",
    "y = all_athletes\n",
    "\n",
    "y1_mean = y1.mean()\n",
    "y2_mean = y2.mean()\n",
    "y3_mean = y3.mean()\n",
    "y_mean = all_athletes.mean()\n",
    "\n",
    "n1 = y1.shape[0]\n",
    "n2 = y2.shape[0]\n",
    "n3 = y3.shape[0]\n",
    "\n",
    "#сумма квадратов отклонений средних групповых значений:\n",
    "S2_F = ((y1_mean - y_mean)**2) * n1 + ((y2_mean - y_mean)**2) * n2 + ((y3_mean - y_mean)**2) * n3\n",
    "print(f'Cумма квадратов отклонений средних групповых значений = {S2_F}')\n",
    "#остаточная сумма квадратов отклонений:\n",
    "S2_res = np.sum((y1 - y1_mean)**2) + np.sum((y2 - y2_mean)**2) + np.sum((y3 - y3_mean)**2)\n",
    "print(f'Остаточная сумма квадратов отклонений = {S2_res}')"
   ]
  },
  {
   "cell_type": "markdown",
   "metadata": {},
   "source": [
    "Проверим равенство S2 = S2_F + S2_res"
   ]
  },
  {
   "cell_type": "code",
   "execution_count": 5,
   "metadata": {
    "scrolled": true
   },
   "outputs": [
    {
     "name": "stdout",
     "output_type": "stream",
     "text": [
      "S2 = 830.9642857142854\n",
      "S2_F + S2_res = 830.964285714286\n"
     ]
    }
   ],
   "source": [
    "s2 = np.sum((y - y_mean)**2)\n",
    "print(f'S2 = {s2}')\n",
    "print(f'S2_F + S2_res = {S2_F + S2_res}')"
   ]
  },
  {
   "cell_type": "markdown",
   "metadata": {},
   "source": [
    "Найдём факторную и остаточную дисперсии sigma2_F и sigma2_res"
   ]
  },
  {
   "cell_type": "code",
   "execution_count": 6,
   "metadata": {},
   "outputs": [
    {
     "name": "stdout",
     "output_type": "stream",
     "text": [
      "sigma2_F = 126.9537337662339\n",
      "sigma2_res = 23.08227272727273\n"
     ]
    }
   ],
   "source": [
    "k = 3\n",
    "n = len(all_athletes)\n",
    "k1 = k - 1\n",
    "k2 = n - k\n",
    "#уровень значимости альфа:\n",
    "alpha = 0.05\n",
    "\n",
    "sigma2_F = S2_F / k1\n",
    "sigma2_res = S2_res / k2\n",
    "print(f'sigma2_F = {sigma2_F}')\n",
    "print(f'sigma2_res = {sigma2_res}')"
   ]
  },
  {
   "cell_type": "code",
   "execution_count": 7,
   "metadata": {},
   "outputs": [
    {
     "name": "stdout",
     "output_type": "stream",
     "text": [
      "FH = 5.500053450812598\n",
      "F_crit = 3.3851899614491687\n"
     ]
    }
   ],
   "source": [
    "FH = sigma2_F / sigma2_res\n",
    "F_crit = stats.f.ppf(1 - alpha, k1, k2)\n",
    "print(f'FH = {FH}')\n",
    "print(f'F_crit = {F_crit}')"
   ]
  },
  {
   "cell_type": "markdown",
   "metadata": {},
   "source": [
    "#### поскольку FH > F_crit, то наше предположение верно, т.е. различие в среднем росте спортсменов разных видов спорта является статистически значимым."
   ]
  }
 ],
 "metadata": {
  "kernelspec": {
   "display_name": "Python 3",
   "language": "python",
   "name": "python3"
  },
  "language_info": {
   "codemirror_mode": {
    "name": "ipython",
    "version": 3
   },
   "file_extension": ".py",
   "mimetype": "text/x-python",
   "name": "python",
   "nbconvert_exporter": "python",
   "pygments_lexer": "ipython3",
   "version": "3.7.3"
  }
 },
 "nbformat": 4,
 "nbformat_minor": 2
}
